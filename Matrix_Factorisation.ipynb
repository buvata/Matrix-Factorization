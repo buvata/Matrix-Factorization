{
 "cells": [
  {
   "cell_type": "code",
   "execution_count": 2,
   "metadata": {},
   "outputs": [],
   "source": [
    "import pandas as pd \n",
    "import numpy as np \n",
    "import matplotlib.pyplot as plt "
   ]
  },
  {
   "cell_type": "code",
   "execution_count": 3,
   "metadata": {},
   "outputs": [],
   "source": [
    "dataset=pd.read_csv(\"ml-100k/u.data\",sep=\"\\t\", names=\"user_id,item_id,rating,timestamp\".split(\",\"))"
   ]
  },
  {
   "cell_type": "code",
   "execution_count": 4,
   "metadata": {},
   "outputs": [
    {
     "data": {
      "text/html": [
       "<div>\n",
       "<style scoped>\n",
       "    .dataframe tbody tr th:only-of-type {\n",
       "        vertical-align: middle;\n",
       "    }\n",
       "\n",
       "    .dataframe tbody tr th {\n",
       "        vertical-align: top;\n",
       "    }\n",
       "\n",
       "    .dataframe thead th {\n",
       "        text-align: right;\n",
       "    }\n",
       "</style>\n",
       "<table border=\"1\" class=\"dataframe\">\n",
       "  <thead>\n",
       "    <tr style=\"text-align: right;\">\n",
       "      <th></th>\n",
       "      <th>user_id</th>\n",
       "      <th>item_id</th>\n",
       "      <th>rating</th>\n",
       "      <th>timestamp</th>\n",
       "    </tr>\n",
       "  </thead>\n",
       "  <tbody>\n",
       "    <tr>\n",
       "      <th>0</th>\n",
       "      <td>196</td>\n",
       "      <td>242</td>\n",
       "      <td>3</td>\n",
       "      <td>881250949</td>\n",
       "    </tr>\n",
       "    <tr>\n",
       "      <th>1</th>\n",
       "      <td>186</td>\n",
       "      <td>302</td>\n",
       "      <td>3</td>\n",
       "      <td>891717742</td>\n",
       "    </tr>\n",
       "    <tr>\n",
       "      <th>2</th>\n",
       "      <td>22</td>\n",
       "      <td>377</td>\n",
       "      <td>1</td>\n",
       "      <td>878887116</td>\n",
       "    </tr>\n",
       "    <tr>\n",
       "      <th>3</th>\n",
       "      <td>244</td>\n",
       "      <td>51</td>\n",
       "      <td>2</td>\n",
       "      <td>880606923</td>\n",
       "    </tr>\n",
       "    <tr>\n",
       "      <th>4</th>\n",
       "      <td>166</td>\n",
       "      <td>346</td>\n",
       "      <td>1</td>\n",
       "      <td>886397596</td>\n",
       "    </tr>\n",
       "  </tbody>\n",
       "</table>\n",
       "</div>"
      ],
      "text/plain": [
       "   user_id  item_id  rating  timestamp\n",
       "0      196      242       3  881250949\n",
       "1      186      302       3  891717742\n",
       "2       22      377       1  878887116\n",
       "3      244       51       2  880606923\n",
       "4      166      346       1  886397596"
      ]
     },
     "execution_count": 4,
     "metadata": {},
     "output_type": "execute_result"
    }
   ],
   "source": [
    "dataset.head()"
   ]
  },
  {
   "cell_type": "code",
   "execution_count": 5,
   "metadata": {},
   "outputs": [
    {
     "data": {
      "text/plain": [
       "(943, 1682)"
      ]
     },
     "execution_count": 5,
     "metadata": {},
     "output_type": "execute_result"
    }
   ],
   "source": [
    "len(dataset.user_id.unique()), len(dataset.item_id.unique())"
   ]
  },
  {
   "cell_type": "code",
   "execution_count": 6,
   "metadata": {},
   "outputs": [],
   "source": [
    "dataset.user_id = dataset.user_id.astype('category').cat.codes.values\n",
    "dataset.item_id = dataset.item_id.astype('category').cat.codes.values"
   ]
  },
  {
   "cell_type": "code",
   "execution_count": 7,
   "metadata": {},
   "outputs": [
    {
     "data": {
      "text/html": [
       "<div>\n",
       "<style scoped>\n",
       "    .dataframe tbody tr th:only-of-type {\n",
       "        vertical-align: middle;\n",
       "    }\n",
       "\n",
       "    .dataframe tbody tr th {\n",
       "        vertical-align: top;\n",
       "    }\n",
       "\n",
       "    .dataframe thead th {\n",
       "        text-align: right;\n",
       "    }\n",
       "</style>\n",
       "<table border=\"1\" class=\"dataframe\">\n",
       "  <thead>\n",
       "    <tr style=\"text-align: right;\">\n",
       "      <th></th>\n",
       "      <th>user_id</th>\n",
       "      <th>item_id</th>\n",
       "      <th>rating</th>\n",
       "      <th>timestamp</th>\n",
       "    </tr>\n",
       "  </thead>\n",
       "  <tbody>\n",
       "    <tr>\n",
       "      <th>0</th>\n",
       "      <td>195</td>\n",
       "      <td>241</td>\n",
       "      <td>3</td>\n",
       "      <td>881250949</td>\n",
       "    </tr>\n",
       "    <tr>\n",
       "      <th>1</th>\n",
       "      <td>185</td>\n",
       "      <td>301</td>\n",
       "      <td>3</td>\n",
       "      <td>891717742</td>\n",
       "    </tr>\n",
       "    <tr>\n",
       "      <th>2</th>\n",
       "      <td>21</td>\n",
       "      <td>376</td>\n",
       "      <td>1</td>\n",
       "      <td>878887116</td>\n",
       "    </tr>\n",
       "    <tr>\n",
       "      <th>3</th>\n",
       "      <td>243</td>\n",
       "      <td>50</td>\n",
       "      <td>2</td>\n",
       "      <td>880606923</td>\n",
       "    </tr>\n",
       "    <tr>\n",
       "      <th>4</th>\n",
       "      <td>165</td>\n",
       "      <td>345</td>\n",
       "      <td>1</td>\n",
       "      <td>886397596</td>\n",
       "    </tr>\n",
       "  </tbody>\n",
       "</table>\n",
       "</div>"
      ],
      "text/plain": [
       "   user_id  item_id  rating  timestamp\n",
       "0      195      241       3  881250949\n",
       "1      185      301       3  891717742\n",
       "2       21      376       1  878887116\n",
       "3      243       50       2  880606923\n",
       "4      165      345       1  886397596"
      ]
     },
     "execution_count": 7,
     "metadata": {},
     "output_type": "execute_result"
    }
   ],
   "source": [
    "dataset.head()\n"
   ]
  },
  {
   "cell_type": "code",
   "execution_count": 8,
   "metadata": {},
   "outputs": [],
   "source": [
    "from sklearn.model_selection import train_test_split\n",
    "train, test = train_test_split(dataset, test_size=0.2)"
   ]
  },
  {
   "cell_type": "code",
   "execution_count": null,
   "metadata": {},
   "outputs": [],
   "source": []
  },
  {
   "cell_type": "code",
   "execution_count": 9,
   "metadata": {},
   "outputs": [
    {
     "name": "stderr",
     "output_type": "stream",
     "text": [
      "Using TensorFlow backend.\n"
     ]
    }
   ],
   "source": [
    "# Matrix factorisation\n",
    "import keras\n",
    "import tensorflow as tf \n",
    "from IPython.display import SVG\n",
    "from keras.optimizers import Adam\n",
    "from keras.utils.vis_utils import model_to_dot\n",
    "n_users, n_movies = len(dataset.user_id.unique()), len(dataset.item_id.unique())\n",
    "n_latent_factors = 3"
   ]
  },
  {
   "cell_type": "code",
   "execution_count": null,
   "metadata": {},
   "outputs": [],
   "source": []
  },
  {
   "cell_type": "code",
   "execution_count": 10,
   "metadata": {},
   "outputs": [],
   "source": [
    "movie_input=keras.layers.Input(shape=[1],name=\"Item\")\n",
    "movie_embedding=keras.layers.Embedding(n_movies,n_latent_factors,name='Movie-Embedding')(movie_input)\n",
    "movie_vec = keras.layers.Flatten(name='FlattenMovies')(movie_embedding)\n",
    "\n",
    "user_input = keras.layers.Input(shape=[1],name='User')\n",
    "user_embedding=keras.layers.Embedding(n_users , n_latent_factors,name='User-Embedding')(user_input)\n",
    "user_vec = keras.layers.Flatten(name='FlattenUsers')(user_embedding)\n",
    "\n",
    "prod = keras.layers.merge.dot([movie_vec, user_vec],axes=-1,name='DotProduct')\n",
    "model = keras.Model([user_input, movie_input], prod)\n",
    "model.compile('adam', 'mean_squared_error')"
   ]
  },
  {
   "cell_type": "code",
   "execution_count": 11,
   "metadata": {},
   "outputs": [
    {
     "data": {
      "image/svg+xml": [
       "<svg height=\"304pt\" viewBox=\"0.00 0.00 672.50 304.00\" width=\"673pt\" xmlns=\"http://www.w3.org/2000/svg\" xmlns:xlink=\"http://www.w3.org/1999/xlink\">\n",
       "<g class=\"graph\" id=\"graph0\" transform=\"scale(1 1) rotate(0) translate(4 300)\">\n",
       "<title>G</title>\n",
       "<polygon fill=\"#ffffff\" points=\"-4,4 -4,-300 668.5,-300 668.5,4 -4,4\" stroke=\"transparent\"/>\n",
       "<!-- 140174779493568 -->\n",
       "<g class=\"node\" id=\"node1\">\n",
       "<title>140174779493568</title>\n",
       "<polygon fill=\"none\" points=\"47.5,-249.5 47.5,-295.5 281.5,-295.5 281.5,-249.5 47.5,-249.5\" stroke=\"#000000\"/>\n",
       "<text fill=\"#000000\" font-family=\"Times,serif\" font-size=\"14.00\" text-anchor=\"middle\" x=\"102.5\" y=\"-268.8\">Item: InputLayer</text>\n",
       "<polyline fill=\"none\" points=\"157.5,-249.5 157.5,-295.5 \" stroke=\"#000000\"/>\n",
       "<text fill=\"#000000\" font-family=\"Times,serif\" font-size=\"14.00\" text-anchor=\"middle\" x=\"185\" y=\"-280.3\">input:</text>\n",
       "<polyline fill=\"none\" points=\"157.5,-272.5 212.5,-272.5 \" stroke=\"#000000\"/>\n",
       "<text fill=\"#000000\" font-family=\"Times,serif\" font-size=\"14.00\" text-anchor=\"middle\" x=\"185\" y=\"-257.3\">output:</text>\n",
       "<polyline fill=\"none\" points=\"212.5,-249.5 212.5,-295.5 \" stroke=\"#000000\"/>\n",
       "<text fill=\"#000000\" font-family=\"Times,serif\" font-size=\"14.00\" text-anchor=\"middle\" x=\"247\" y=\"-280.3\">(None, 1)</text>\n",
       "<polyline fill=\"none\" points=\"212.5,-272.5 281.5,-272.5 \" stroke=\"#000000\"/>\n",
       "<text fill=\"#000000\" font-family=\"Times,serif\" font-size=\"14.00\" text-anchor=\"middle\" x=\"247\" y=\"-257.3\">(None, 1)</text>\n",
       "</g>\n",
       "<!-- 140174779493680 -->\n",
       "<g class=\"node\" id=\"node3\">\n",
       "<title>140174779493680</title>\n",
       "<polygon fill=\"none\" points=\"0,-166.5 0,-212.5 329,-212.5 329,-166.5 0,-166.5\" stroke=\"#000000\"/>\n",
       "<text fill=\"#000000\" font-family=\"Times,serif\" font-size=\"14.00\" text-anchor=\"middle\" x=\"95.5\" y=\"-185.8\">Movie-Embedding: Embedding</text>\n",
       "<polyline fill=\"none\" points=\"191,-166.5 191,-212.5 \" stroke=\"#000000\"/>\n",
       "<text fill=\"#000000\" font-family=\"Times,serif\" font-size=\"14.00\" text-anchor=\"middle\" x=\"218.5\" y=\"-197.3\">input:</text>\n",
       "<polyline fill=\"none\" points=\"191,-189.5 246,-189.5 \" stroke=\"#000000\"/>\n",
       "<text fill=\"#000000\" font-family=\"Times,serif\" font-size=\"14.00\" text-anchor=\"middle\" x=\"218.5\" y=\"-174.3\">output:</text>\n",
       "<polyline fill=\"none\" points=\"246,-166.5 246,-212.5 \" stroke=\"#000000\"/>\n",
       "<text fill=\"#000000\" font-family=\"Times,serif\" font-size=\"14.00\" text-anchor=\"middle\" x=\"287.5\" y=\"-197.3\">(None, 1)</text>\n",
       "<polyline fill=\"none\" points=\"246,-189.5 329,-189.5 \" stroke=\"#000000\"/>\n",
       "<text fill=\"#000000\" font-family=\"Times,serif\" font-size=\"14.00\" text-anchor=\"middle\" x=\"287.5\" y=\"-174.3\">(None, 1, 3)</text>\n",
       "</g>\n",
       "<!-- 140174779493568&#45;&gt;140174779493680 -->\n",
       "<g class=\"edge\" id=\"edge1\">\n",
       "<title>140174779493568-&gt;140174779493680</title>\n",
       "<path d=\"M164.5,-249.3799C164.5,-241.1745 164.5,-231.7679 164.5,-222.8786\" fill=\"none\" stroke=\"#000000\"/>\n",
       "<polygon fill=\"#000000\" points=\"168.0001,-222.784 164.5,-212.784 161.0001,-222.784 168.0001,-222.784\" stroke=\"#000000\"/>\n",
       "</g>\n",
       "<!-- 140175653692416 -->\n",
       "<g class=\"node\" id=\"node2\">\n",
       "<title>140175653692416</title>\n",
       "<polygon fill=\"none\" points=\"388.5,-249.5 388.5,-295.5 622.5,-295.5 622.5,-249.5 388.5,-249.5\" stroke=\"#000000\"/>\n",
       "<text fill=\"#000000\" font-family=\"Times,serif\" font-size=\"14.00\" text-anchor=\"middle\" x=\"443.5\" y=\"-268.8\">User: InputLayer</text>\n",
       "<polyline fill=\"none\" points=\"498.5,-249.5 498.5,-295.5 \" stroke=\"#000000\"/>\n",
       "<text fill=\"#000000\" font-family=\"Times,serif\" font-size=\"14.00\" text-anchor=\"middle\" x=\"526\" y=\"-280.3\">input:</text>\n",
       "<polyline fill=\"none\" points=\"498.5,-272.5 553.5,-272.5 \" stroke=\"#000000\"/>\n",
       "<text fill=\"#000000\" font-family=\"Times,serif\" font-size=\"14.00\" text-anchor=\"middle\" x=\"526\" y=\"-257.3\">output:</text>\n",
       "<polyline fill=\"none\" points=\"553.5,-249.5 553.5,-295.5 \" stroke=\"#000000\"/>\n",
       "<text fill=\"#000000\" font-family=\"Times,serif\" font-size=\"14.00\" text-anchor=\"middle\" x=\"588\" y=\"-280.3\">(None, 1)</text>\n",
       "<polyline fill=\"none\" points=\"553.5,-272.5 622.5,-272.5 \" stroke=\"#000000\"/>\n",
       "<text fill=\"#000000\" font-family=\"Times,serif\" font-size=\"14.00\" text-anchor=\"middle\" x=\"588\" y=\"-257.3\">(None, 1)</text>\n",
       "</g>\n",
       "<!-- 140174779519048 -->\n",
       "<g class=\"node\" id=\"node4\">\n",
       "<title>140174779519048</title>\n",
       "<polygon fill=\"none\" points=\"346.5,-166.5 346.5,-212.5 664.5,-212.5 664.5,-166.5 346.5,-166.5\" stroke=\"#000000\"/>\n",
       "<text fill=\"#000000\" font-family=\"Times,serif\" font-size=\"14.00\" text-anchor=\"middle\" x=\"436.5\" y=\"-185.8\">User-Embedding: Embedding</text>\n",
       "<polyline fill=\"none\" points=\"526.5,-166.5 526.5,-212.5 \" stroke=\"#000000\"/>\n",
       "<text fill=\"#000000\" font-family=\"Times,serif\" font-size=\"14.00\" text-anchor=\"middle\" x=\"554\" y=\"-197.3\">input:</text>\n",
       "<polyline fill=\"none\" points=\"526.5,-189.5 581.5,-189.5 \" stroke=\"#000000\"/>\n",
       "<text fill=\"#000000\" font-family=\"Times,serif\" font-size=\"14.00\" text-anchor=\"middle\" x=\"554\" y=\"-174.3\">output:</text>\n",
       "<polyline fill=\"none\" points=\"581.5,-166.5 581.5,-212.5 \" stroke=\"#000000\"/>\n",
       "<text fill=\"#000000\" font-family=\"Times,serif\" font-size=\"14.00\" text-anchor=\"middle\" x=\"623\" y=\"-197.3\">(None, 1)</text>\n",
       "<polyline fill=\"none\" points=\"581.5,-189.5 664.5,-189.5 \" stroke=\"#000000\"/>\n",
       "<text fill=\"#000000\" font-family=\"Times,serif\" font-size=\"14.00\" text-anchor=\"middle\" x=\"623\" y=\"-174.3\">(None, 1, 3)</text>\n",
       "</g>\n",
       "<!-- 140175653692416&#45;&gt;140174779519048 -->\n",
       "<g class=\"edge\" id=\"edge2\">\n",
       "<title>140175653692416-&gt;140174779519048</title>\n",
       "<path d=\"M505.5,-249.3799C505.5,-241.1745 505.5,-231.7679 505.5,-222.8786\" fill=\"none\" stroke=\"#000000\"/>\n",
       "<polygon fill=\"#000000\" points=\"509.0001,-222.784 505.5,-212.784 502.0001,-222.784 509.0001,-222.784\" stroke=\"#000000\"/>\n",
       "</g>\n",
       "<!-- 140174779494296 -->\n",
       "<g class=\"node\" id=\"node5\">\n",
       "<title>140174779494296</title>\n",
       "<polygon fill=\"none\" points=\"50.5,-83.5 50.5,-129.5 328.5,-129.5 328.5,-83.5 50.5,-83.5\" stroke=\"#000000\"/>\n",
       "<text fill=\"#000000\" font-family=\"Times,serif\" font-size=\"14.00\" text-anchor=\"middle\" x=\"120.5\" y=\"-102.8\">FlattenMovies: Flatten</text>\n",
       "<polyline fill=\"none\" points=\"190.5,-83.5 190.5,-129.5 \" stroke=\"#000000\"/>\n",
       "<text fill=\"#000000\" font-family=\"Times,serif\" font-size=\"14.00\" text-anchor=\"middle\" x=\"218\" y=\"-114.3\">input:</text>\n",
       "<polyline fill=\"none\" points=\"190.5,-106.5 245.5,-106.5 \" stroke=\"#000000\"/>\n",
       "<text fill=\"#000000\" font-family=\"Times,serif\" font-size=\"14.00\" text-anchor=\"middle\" x=\"218\" y=\"-91.3\">output:</text>\n",
       "<polyline fill=\"none\" points=\"245.5,-83.5 245.5,-129.5 \" stroke=\"#000000\"/>\n",
       "<text fill=\"#000000\" font-family=\"Times,serif\" font-size=\"14.00\" text-anchor=\"middle\" x=\"287\" y=\"-114.3\">(None, 1, 3)</text>\n",
       "<polyline fill=\"none\" points=\"245.5,-106.5 328.5,-106.5 \" stroke=\"#000000\"/>\n",
       "<text fill=\"#000000\" font-family=\"Times,serif\" font-size=\"14.00\" text-anchor=\"middle\" x=\"287\" y=\"-91.3\">(None, 3)</text>\n",
       "</g>\n",
       "<!-- 140174779493680&#45;&gt;140174779494296 -->\n",
       "<g class=\"edge\" id=\"edge3\">\n",
       "<title>140174779493680-&gt;140174779494296</title>\n",
       "<path d=\"M171.4639,-166.3799C173.9622,-158.0854 176.8303,-148.5633 179.5335,-139.5889\" fill=\"none\" stroke=\"#000000\"/>\n",
       "<polygon fill=\"#000000\" points=\"182.9539,-140.3685 182.4867,-129.784 176.2513,-138.3496 182.9539,-140.3685\" stroke=\"#000000\"/>\n",
       "</g>\n",
       "<!-- 140174779519664 -->\n",
       "<g class=\"node\" id=\"node6\">\n",
       "<title>140174779519664</title>\n",
       "<polygon fill=\"none\" points=\"358.5,-83.5 358.5,-129.5 626.5,-129.5 626.5,-83.5 358.5,-83.5\" stroke=\"#000000\"/>\n",
       "<text fill=\"#000000\" font-family=\"Times,serif\" font-size=\"14.00\" text-anchor=\"middle\" x=\"423.5\" y=\"-102.8\">FlattenUsers: Flatten</text>\n",
       "<polyline fill=\"none\" points=\"488.5,-83.5 488.5,-129.5 \" stroke=\"#000000\"/>\n",
       "<text fill=\"#000000\" font-family=\"Times,serif\" font-size=\"14.00\" text-anchor=\"middle\" x=\"516\" y=\"-114.3\">input:</text>\n",
       "<polyline fill=\"none\" points=\"488.5,-106.5 543.5,-106.5 \" stroke=\"#000000\"/>\n",
       "<text fill=\"#000000\" font-family=\"Times,serif\" font-size=\"14.00\" text-anchor=\"middle\" x=\"516\" y=\"-91.3\">output:</text>\n",
       "<polyline fill=\"none\" points=\"543.5,-83.5 543.5,-129.5 \" stroke=\"#000000\"/>\n",
       "<text fill=\"#000000\" font-family=\"Times,serif\" font-size=\"14.00\" text-anchor=\"middle\" x=\"585\" y=\"-114.3\">(None, 1, 3)</text>\n",
       "<polyline fill=\"none\" points=\"543.5,-106.5 626.5,-106.5 \" stroke=\"#000000\"/>\n",
       "<text fill=\"#000000\" font-family=\"Times,serif\" font-size=\"14.00\" text-anchor=\"middle\" x=\"585\" y=\"-91.3\">(None, 3)</text>\n",
       "</g>\n",
       "<!-- 140174779519048&#45;&gt;140174779519664 -->\n",
       "<g class=\"edge\" id=\"edge4\">\n",
       "<title>140174779519048-&gt;140174779519664</title>\n",
       "<path d=\"M501.8788,-166.3799C500.5936,-158.1745 499.1203,-148.7679 497.728,-139.8786\" fill=\"none\" stroke=\"#000000\"/>\n",
       "<polygon fill=\"#000000\" points=\"501.1522,-139.1219 496.1469,-129.784 494.2365,-140.2052 501.1522,-139.1219\" stroke=\"#000000\"/>\n",
       "</g>\n",
       "<!-- 140174779520952 -->\n",
       "<g class=\"node\" id=\"node7\">\n",
       "<title>140174779520952</title>\n",
       "<polygon fill=\"none\" points=\"184.5,-.5 184.5,-46.5 484.5,-46.5 484.5,-.5 184.5,-.5\" stroke=\"#000000\"/>\n",
       "<text fill=\"#000000\" font-family=\"Times,serif\" font-size=\"14.00\" text-anchor=\"middle\" x=\"238\" y=\"-19.8\">DotProduct: Dot</text>\n",
       "<polyline fill=\"none\" points=\"291.5,-.5 291.5,-46.5 \" stroke=\"#000000\"/>\n",
       "<text fill=\"#000000\" font-family=\"Times,serif\" font-size=\"14.00\" text-anchor=\"middle\" x=\"319\" y=\"-31.3\">input:</text>\n",
       "<polyline fill=\"none\" points=\"291.5,-23.5 346.5,-23.5 \" stroke=\"#000000\"/>\n",
       "<text fill=\"#000000\" font-family=\"Times,serif\" font-size=\"14.00\" text-anchor=\"middle\" x=\"319\" y=\"-8.3\">output:</text>\n",
       "<polyline fill=\"none\" points=\"346.5,-.5 346.5,-46.5 \" stroke=\"#000000\"/>\n",
       "<text fill=\"#000000\" font-family=\"Times,serif\" font-size=\"14.00\" text-anchor=\"middle\" x=\"415.5\" y=\"-31.3\">[(None, 3), (None, 3)]</text>\n",
       "<polyline fill=\"none\" points=\"346.5,-23.5 484.5,-23.5 \" stroke=\"#000000\"/>\n",
       "<text fill=\"#000000\" font-family=\"Times,serif\" font-size=\"14.00\" text-anchor=\"middle\" x=\"415.5\" y=\"-8.3\">(None, 1)</text>\n",
       "</g>\n",
       "<!-- 140174779494296&#45;&gt;140174779520952 -->\n",
       "<g class=\"edge\" id=\"edge5\">\n",
       "<title>140174779494296-&gt;140174779520952</title>\n",
       "<path d=\"M229.8906,-83.3799C246.9453,-73.6175 266.9708,-62.1546 284.9104,-51.8857\" fill=\"none\" stroke=\"#000000\"/>\n",
       "<polygon fill=\"#000000\" points=\"287.1348,-54.6454 294.0748,-46.6399 283.6573,-48.5703 287.1348,-54.6454\" stroke=\"#000000\"/>\n",
       "</g>\n",
       "<!-- 140174779519664&#45;&gt;140174779520952 -->\n",
       "<g class=\"edge\" id=\"edge6\">\n",
       "<title>140174779519664-&gt;140174779520952</title>\n",
       "<path d=\"M448.4882,-83.3799C429.5634,-73.4384 407.2816,-61.7334 387.4618,-51.3217\" fill=\"none\" stroke=\"#000000\"/>\n",
       "<polygon fill=\"#000000\" points=\"389.0301,-48.192 378.5495,-46.6399 385.7747,-54.389 389.0301,-48.192\" stroke=\"#000000\"/>\n",
       "</g>\n",
       "</g>\n",
       "</svg>"
      ],
      "text/plain": [
       "<IPython.core.display.SVG object>"
      ]
     },
     "execution_count": 11,
     "metadata": {},
     "output_type": "execute_result"
    }
   ],
   "source": [
    "SVG(model_to_dot(model,  show_shapes=True, show_layer_names=True, rankdir='HB').create(prog='dot', format='svg'))"
   ]
  },
  {
   "cell_type": "code",
   "execution_count": 12,
   "metadata": {},
   "outputs": [
    {
     "name": "stdout",
     "output_type": "stream",
     "text": [
      "__________________________________________________________________________________________________\n",
      "Layer (type)                    Output Shape         Param #     Connected to                     \n",
      "==================================================================================================\n",
      "Item (InputLayer)               (None, 1)            0                                            \n",
      "__________________________________________________________________________________________________\n",
      "User (InputLayer)               (None, 1)            0                                            \n",
      "__________________________________________________________________________________________________\n",
      "Movie-Embedding (Embedding)     (None, 1, 3)         5046        Item[0][0]                       \n",
      "__________________________________________________________________________________________________\n",
      "User-Embedding (Embedding)      (None, 1, 3)         2829        User[0][0]                       \n",
      "__________________________________________________________________________________________________\n",
      "FlattenMovies (Flatten)         (None, 3)            0           Movie-Embedding[0][0]            \n",
      "__________________________________________________________________________________________________\n",
      "FlattenUsers (Flatten)          (None, 3)            0           User-Embedding[0][0]             \n",
      "__________________________________________________________________________________________________\n",
      "DotProduct (Dot)                (None, 1)            0           FlattenMovies[0][0]              \n",
      "                                                                 FlattenUsers[0][0]               \n",
      "==================================================================================================\n",
      "Total params: 7,875\n",
      "Trainable params: 7,875\n",
      "Non-trainable params: 0\n",
      "__________________________________________________________________________________________________\n"
     ]
    }
   ],
   "source": [
    "model.summary()"
   ]
  },
  {
   "cell_type": "code",
   "execution_count": 13,
   "metadata": {},
   "outputs": [],
   "source": [
    "history=model.fit([train.user_id,train.item_id],train.rating,epochs=100,verbose=0)"
   ]
  },
  {
   "cell_type": "code",
   "execution_count": 14,
   "metadata": {},
   "outputs": [
    {
     "data": {
      "text/plain": [
       "Text(0, 0.5, 'Train Error')"
      ]
     },
     "execution_count": 14,
     "metadata": {},
     "output_type": "execute_result"
    },
    {
     "data": {
      "image/png": "[encoded data removed]",
      "text/plain": [
       "<Figure size 432x288 with 1 Axes>"
      ]
     },
     "metadata": {
      "needs_background": "light"
     },
     "output_type": "display_data"
    }
   ],
   "source": [
    "pd.Series(history.history['loss']).plot(logy=True)\n",
    "plt.xlabel(\"Epoch\")\n",
    "plt.ylabel(\"Train Error\")"
   ]
  },
  {
   "cell_type": "code",
   "execution_count": 15,
   "metadata": {},
   "outputs": [],
   "source": [
    "y_hat = np.round(model.predict([test.user_id, test.item_id]),0)\n",
    "y_true=test.rating"
   ]
  },
  {
   "cell_type": "code",
   "execution_count": 16,
   "metadata": {},
   "outputs": [
    {
     "data": {
      "text/plain": [
       "0.6974"
      ]
     },
     "execution_count": 16,
     "metadata": {},
     "output_type": "execute_result"
    }
   ],
   "source": [
    "from sklearn.metrics import mean_absolute_error\n",
    "mean_absolute_error(y_true, y_hat)"
   ]
  },
  {
   "cell_type": "code",
   "execution_count": 17,
   "metadata": {},
   "outputs": [
    {
     "data": {
      "text/html": [
       "<div>\n",
       "<style scoped>\n",
       "    .dataframe tbody tr th:only-of-type {\n",
       "        vertical-align: middle;\n",
       "    }\n",
       "\n",
       "    .dataframe tbody tr th {\n",
       "        vertical-align: top;\n",
       "    }\n",
       "\n",
       "    .dataframe thead th {\n",
       "        text-align: right;\n",
       "    }\n",
       "</style>\n",
       "<table border=\"1\" class=\"dataframe\">\n",
       "  <thead>\n",
       "    <tr style=\"text-align: right;\">\n",
       "      <th></th>\n",
       "      <th>0</th>\n",
       "      <th>1</th>\n",
       "      <th>2</th>\n",
       "    </tr>\n",
       "  </thead>\n",
       "  <tbody>\n",
       "    <tr>\n",
       "      <th>count</th>\n",
       "      <td>1682.000000</td>\n",
       "      <td>1682.000000</td>\n",
       "      <td>1682.000000</td>\n",
       "    </tr>\n",
       "    <tr>\n",
       "      <th>mean</th>\n",
       "      <td>-0.880215</td>\n",
       "      <td>0.998789</td>\n",
       "      <td>-0.887047</td>\n",
       "    </tr>\n",
       "    <tr>\n",
       "      <th>std</th>\n",
       "      <td>0.550130</td>\n",
       "      <td>0.471856</td>\n",
       "      <td>0.431068</td>\n",
       "    </tr>\n",
       "    <tr>\n",
       "      <th>min</th>\n",
       "      <td>-2.296970</td>\n",
       "      <td>-1.017873</td>\n",
       "      <td>-2.147054</td>\n",
       "    </tr>\n",
       "    <tr>\n",
       "      <th>25%</th>\n",
       "      <td>-1.324598</td>\n",
       "      <td>0.694807</td>\n",
       "      <td>-1.193305</td>\n",
       "    </tr>\n",
       "    <tr>\n",
       "      <th>50%</th>\n",
       "      <td>-0.887481</td>\n",
       "      <td>1.004846</td>\n",
       "      <td>-0.901716</td>\n",
       "    </tr>\n",
       "    <tr>\n",
       "      <th>75%</th>\n",
       "      <td>-0.481867</td>\n",
       "      <td>1.309018</td>\n",
       "      <td>-0.568403</td>\n",
       "    </tr>\n",
       "    <tr>\n",
       "      <th>max</th>\n",
       "      <td>1.127116</td>\n",
       "      <td>3.396826</td>\n",
       "      <td>0.559773</td>\n",
       "    </tr>\n",
       "  </tbody>\n",
       "</table>\n",
       "</div>"
      ],
      "text/plain": [
       "                 0            1            2\n",
       "count  1682.000000  1682.000000  1682.000000\n",
       "mean     -0.880215     0.998789    -0.887047\n",
       "std       0.550130     0.471856     0.431068\n",
       "min      -2.296970    -1.017873    -2.147054\n",
       "25%      -1.324598     0.694807    -1.193305\n",
       "50%      -0.887481     1.004846    -0.901716\n",
       "75%      -0.481867     1.309018    -0.568403\n",
       "max       1.127116     3.396826     0.559773"
      ]
     },
     "execution_count": 17,
     "metadata": {},
     "output_type": "execute_result"
    }
   ],
   "source": [
    "movie_embedding_learnt = model.get_layer(name='Movie-Embedding').get_weights()[0]\n",
    "pd.DataFrame(movie_embedding_learnt).describe()"
   ]
  },
  {
   "cell_type": "code",
   "execution_count": null,
   "metadata": {},
   "outputs": [],
   "source": [
    "\n",
    "\n",
    "###   Non-negative Matrix factorisation (NNMF)\n",
    "\n"
   ]
  },
  {
   "cell_type": "code",
   "execution_count": 20,
   "metadata": {},
   "outputs": [],
   "source": [
    "from keras.constraints import non_neg\n",
    "movie_input = keras.layers.Input(shape=[1],name='Item')\n",
    "movie_embedding = keras.layers.Embedding(n_movies , n_latent_factors, name='NonNegMovie-Embedding', embeddings_constraint=non_neg())(movie_input)\n",
    "movie_vec = keras.layers.Flatten(name='FlattenMovies')(movie_embedding)\n",
    "\n",
    "user_input = keras.layers.Input(shape=[1],name='User')\n",
    "user_vec = keras.layers.Flatten(name='FlattenUsers')(keras.layers.Embedding(n_users, n_latent_factors,name='NonNegUser-Embedding',embeddings_constraint=non_neg())(user_input))\n",
    "\n",
    "prod = keras.layers.merge.dot([movie_vec, user_vec], axes=-1,name='DotProduct')\n",
    "model = keras.Model([user_input, movie_input], prod)\n",
    "model.compile('adam', 'mean_squared_error')"
   ]
  },
  {
   "cell_type": "code",
   "execution_count": 21,
   "metadata": {},
   "outputs": [],
   "source": [
    "history_nonneg = model.fit([train.user_id, train.item_id], train.rating, epochs=10, verbose=0)"
   ]
  },
  {
   "cell_type": "code",
   "execution_count": 22,
   "metadata": {},
   "outputs": [],
   "source": [
    "y_hat = np.round(model.predict([test.user_id, test.item_id]),0)\n",
    "y_true=test.rating"
   ]
  },
  {
   "cell_type": "code",
   "execution_count": 23,
   "metadata": {},
   "outputs": [
    {
     "data": {
      "text/plain": [
       "0.72015"
      ]
     },
     "execution_count": 23,
     "metadata": {},
     "output_type": "execute_result"
    }
   ],
   "source": [
    "from sklearn.metrics import mean_absolute_error\n",
    "mean_absolute_error(y_true, y_hat)"
   ]
  },
  {
   "cell_type": "code",
   "execution_count": null,
   "metadata": {},
   "outputs": [],
   "source": [
    "\n",
    "#### Neural networks for recommendation\n",
    "\n"
   ]
  },
  {
   "cell_type": "code",
   "execution_count": 24,
   "metadata": {},
   "outputs": [],
   "source": [
    "n_latent_factors_user = 5\n",
    "n_latent_factors_movie = 8\n",
    "\n",
    "movie_input = keras.layers.Input(shape=[1],name='Item')\n",
    "movie_embedding = keras.layers.Embedding(n_movies , n_latent_factors_movie, name='Movie-Embedding')(movie_input)\n",
    "movie_vec = keras.layers.Flatten(name='FlattenMovies')(movie_embedding)\n",
    "movie_vec = keras.layers.Dropout(0.2)(movie_vec)\n",
    "\n",
    "\n",
    "user_input = keras.layers.Input(shape=[1],name='User')\n",
    "user_vec = keras.layers.Flatten(name='FlattenUsers')(keras.layers.Embedding(n_users , n_latent_factors_user,name='User-Embedding')(user_input))\n",
    "user_vec = keras.layers.Dropout(0.2)(user_vec)\n",
    "\n",
    "\n",
    "concat = keras.layers.merge.concatenate([movie_vec, user_vec],axis=-1,name='Concat')\n",
    "\n",
    "concat_dropout = keras.layers.Dropout(0.2)(concat)\n",
    "\n",
    "dense = keras.layers.Dense(200,name='FullyConnected')(concat)\n",
    "dropout_1 = keras.layers.Dropout(0.2,name='Dropout')(dense)\n",
    "\n",
    "dense_2 = keras.layers.Dense(100,name='FullyConnected-1')(concat)\n",
    "dropout_2 = keras.layers.Dropout(0.2,name='Dropout')(dense_2)\n",
    "\n",
    "dense_3 = keras.layers.Dense(50,name='FullyConnected-2')(dense_2)\n",
    "dropout_3 = keras.layers.Dropout(0.2,name='Dropout')(dense_3)\n",
    "\n",
    "dense_4 = keras.layers.Dense(20,name='FullyConnected-3', activation='relu')(dense_3)\n",
    "\n",
    "\n",
    "result = keras.layers.Dense(1, activation='relu',name='Activation')(dense_4)\n",
    "adam = Adam(lr=0.005)\n",
    "model = keras.Model([user_input, movie_input], result)\n",
    "model.compile(optimizer=adam,loss= 'mean_absolute_error')"
   ]
  },
  {
   "cell_type": "code",
   "execution_count": 25,
   "metadata": {},
   "outputs": [
    {
     "data": {
      "image/svg+xml": [
       "<svg height=\"719pt\" viewBox=\"0.00 0.00 672.50 719.00\" width=\"673pt\" xmlns=\"http://www.w3.org/2000/svg\" xmlns:xlink=\"http://www.w3.org/1999/xlink\">\n",
       "<g class=\"graph\" id=\"graph0\" transform=\"scale(1 1) rotate(0) translate(4 715)\">\n",
       "<title>G</title>\n",
       "<polygon fill=\"#ffffff\" points=\"-4,4 -4,-715 668.5,-715 668.5,4 -4,4\" stroke=\"transparent\"/>\n",
       "<!-- 140174057934976 -->\n",
       "<g class=\"node\" id=\"node1\">\n",
       "<title>140174057934976</title>\n",
       "<polygon fill=\"none\" points=\"47.5,-664.5 47.5,-710.5 281.5,-710.5 281.5,-664.5 47.5,-664.5\" stroke=\"#000000\"/>\n",
       "<text fill=\"#000000\" font-family=\"Times,serif\" font-size=\"14.00\" text-anchor=\"middle\" x=\"102.5\" y=\"-683.8\">Item: InputLayer</text>\n",
       "<polyline fill=\"none\" points=\"157.5,-664.5 157.5,-710.5 \" stroke=\"#000000\"/>\n",
       "<text fill=\"#000000\" font-family=\"Times,serif\" font-size=\"14.00\" text-anchor=\"middle\" x=\"185\" y=\"-695.3\">input:</text>\n",
       "<polyline fill=\"none\" points=\"157.5,-687.5 212.5,-687.5 \" stroke=\"#000000\"/>\n",
       "<text fill=\"#000000\" font-family=\"Times,serif\" font-size=\"14.00\" text-anchor=\"middle\" x=\"185\" y=\"-672.3\">output:</text>\n",
       "<polyline fill=\"none\" points=\"212.5,-664.5 212.5,-710.5 \" stroke=\"#000000\"/>\n",
       "<text fill=\"#000000\" font-family=\"Times,serif\" font-size=\"14.00\" text-anchor=\"middle\" x=\"247\" y=\"-695.3\">(None, 1)</text>\n",
       "<polyline fill=\"none\" points=\"212.5,-687.5 281.5,-687.5 \" stroke=\"#000000\"/>\n",
       "<text fill=\"#000000\" font-family=\"Times,serif\" font-size=\"14.00\" text-anchor=\"middle\" x=\"247\" y=\"-672.3\">(None, 1)</text>\n",
       "</g>\n",
       "<!-- 140174057935088 -->\n",
       "<g class=\"node\" id=\"node3\">\n",
       "<title>140174057935088</title>\n",
       "<polygon fill=\"none\" points=\"0,-581.5 0,-627.5 329,-627.5 329,-581.5 0,-581.5\" stroke=\"#000000\"/>\n",
       "<text fill=\"#000000\" font-family=\"Times,serif\" font-size=\"14.00\" text-anchor=\"middle\" x=\"95.5\" y=\"-600.8\">Movie-Embedding: Embedding</text>\n",
       "<polyline fill=\"none\" points=\"191,-581.5 191,-627.5 \" stroke=\"#000000\"/>\n",
       "<text fill=\"#000000\" font-family=\"Times,serif\" font-size=\"14.00\" text-anchor=\"middle\" x=\"218.5\" y=\"-612.3\">input:</text>\n",
       "<polyline fill=\"none\" points=\"191,-604.5 246,-604.5 \" stroke=\"#000000\"/>\n",
       "<text fill=\"#000000\" font-family=\"Times,serif\" font-size=\"14.00\" text-anchor=\"middle\" x=\"218.5\" y=\"-589.3\">output:</text>\n",
       "<polyline fill=\"none\" points=\"246,-581.5 246,-627.5 \" stroke=\"#000000\"/>\n",
       "<text fill=\"#000000\" font-family=\"Times,serif\" font-size=\"14.00\" text-anchor=\"middle\" x=\"287.5\" y=\"-612.3\">(None, 1)</text>\n",
       "<polyline fill=\"none\" points=\"246,-604.5 329,-604.5 \" stroke=\"#000000\"/>\n",
       "<text fill=\"#000000\" font-family=\"Times,serif\" font-size=\"14.00\" text-anchor=\"middle\" x=\"287.5\" y=\"-589.3\">(None, 1, 8)</text>\n",
       "</g>\n",
       "<!-- 140174057934976&#45;&gt;140174057935088 -->\n",
       "<g class=\"edge\" id=\"edge1\">\n",
       "<title>140174057934976-&gt;140174057935088</title>\n",
       "<path d=\"M164.5,-664.3799C164.5,-656.1745 164.5,-646.7679 164.5,-637.8786\" fill=\"none\" stroke=\"#000000\"/>\n",
       "<polygon fill=\"#000000\" points=\"168.0001,-637.784 164.5,-627.784 161.0001,-637.784 168.0001,-637.784\" stroke=\"#000000\"/>\n",
       "</g>\n",
       "<!-- 140174057935480 -->\n",
       "<g class=\"node\" id=\"node2\">\n",
       "<title>140174057935480</title>\n",
       "<polygon fill=\"none\" points=\"388.5,-664.5 388.5,-710.5 622.5,-710.5 622.5,-664.5 388.5,-664.5\" stroke=\"#000000\"/>\n",
       "<text fill=\"#000000\" font-family=\"Times,serif\" font-size=\"14.00\" text-anchor=\"middle\" x=\"443.5\" y=\"-683.8\">User: InputLayer</text>\n",
       "<polyline fill=\"none\" points=\"498.5,-664.5 498.5,-710.5 \" stroke=\"#000000\"/>\n",
       "<text fill=\"#000000\" font-family=\"Times,serif\" font-size=\"14.00\" text-anchor=\"middle\" x=\"526\" y=\"-695.3\">input:</text>\n",
       "<polyline fill=\"none\" points=\"498.5,-687.5 553.5,-687.5 \" stroke=\"#000000\"/>\n",
       "<text fill=\"#000000\" font-family=\"Times,serif\" font-size=\"14.00\" text-anchor=\"middle\" x=\"526\" y=\"-672.3\">output:</text>\n",
       "<polyline fill=\"none\" points=\"553.5,-664.5 553.5,-710.5 \" stroke=\"#000000\"/>\n",
       "<text fill=\"#000000\" font-family=\"Times,serif\" font-size=\"14.00\" text-anchor=\"middle\" x=\"588\" y=\"-695.3\">(None, 1)</text>\n",
       "<polyline fill=\"none\" points=\"553.5,-687.5 622.5,-687.5 \" stroke=\"#000000\"/>\n",
       "<text fill=\"#000000\" font-family=\"Times,serif\" font-size=\"14.00\" text-anchor=\"middle\" x=\"588\" y=\"-672.3\">(None, 1)</text>\n",
       "</g>\n",
       "<!-- 140174057935368 -->\n",
       "<g class=\"node\" id=\"node4\">\n",
       "<title>140174057935368</title>\n",
       "<polygon fill=\"none\" points=\"346.5,-581.5 346.5,-627.5 664.5,-627.5 664.5,-581.5 346.5,-581.5\" stroke=\"#000000\"/>\n",
       "<text fill=\"#000000\" font-family=\"Times,serif\" font-size=\"14.00\" text-anchor=\"middle\" x=\"436.5\" y=\"-600.8\">User-Embedding: Embedding</text>\n",
       "<polyline fill=\"none\" points=\"526.5,-581.5 526.5,-627.5 \" stroke=\"#000000\"/>\n",
       "<text fill=\"#000000\" font-family=\"Times,serif\" font-size=\"14.00\" text-anchor=\"middle\" x=\"554\" y=\"-612.3\">input:</text>\n",
       "<polyline fill=\"none\" points=\"526.5,-604.5 581.5,-604.5 \" stroke=\"#000000\"/>\n",
       "<text fill=\"#000000\" font-family=\"Times,serif\" font-size=\"14.00\" text-anchor=\"middle\" x=\"554\" y=\"-589.3\">output:</text>\n",
       "<polyline fill=\"none\" points=\"581.5,-581.5 581.5,-627.5 \" stroke=\"#000000\"/>\n",
       "<text fill=\"#000000\" font-family=\"Times,serif\" font-size=\"14.00\" text-anchor=\"middle\" x=\"623\" y=\"-612.3\">(None, 1)</text>\n",
       "<polyline fill=\"none\" points=\"581.5,-604.5 664.5,-604.5 \" stroke=\"#000000\"/>\n",
       "<text fill=\"#000000\" font-family=\"Times,serif\" font-size=\"14.00\" text-anchor=\"middle\" x=\"623\" y=\"-589.3\">(None, 1, 5)</text>\n",
       "</g>\n",
       "<!-- 140174057935480&#45;&gt;140174057935368 -->\n",
       "<g class=\"edge\" id=\"edge2\">\n",
       "<title>140174057935480-&gt;140174057935368</title>\n",
       "<path d=\"M505.5,-664.3799C505.5,-656.1745 505.5,-646.7679 505.5,-637.8786\" fill=\"none\" stroke=\"#000000\"/>\n",
       "<polygon fill=\"#000000\" points=\"509.0001,-637.784 505.5,-627.784 502.0001,-637.784 509.0001,-637.784\" stroke=\"#000000\"/>\n",
       "</g>\n",
       "<!-- 140174057935312 -->\n",
       "<g class=\"node\" id=\"node5\">\n",
       "<title>140174057935312</title>\n",
       "<polygon fill=\"none\" points=\"50.5,-498.5 50.5,-544.5 328.5,-544.5 328.5,-498.5 50.5,-498.5\" stroke=\"#000000\"/>\n",
       "<text fill=\"#000000\" font-family=\"Times,serif\" font-size=\"14.00\" text-anchor=\"middle\" x=\"120.5\" y=\"-517.8\">FlattenMovies: Flatten</text>\n",
       "<polyline fill=\"none\" points=\"190.5,-498.5 190.5,-544.5 \" stroke=\"#000000\"/>\n",
       "<text fill=\"#000000\" font-family=\"Times,serif\" font-size=\"14.00\" text-anchor=\"middle\" x=\"218\" y=\"-529.3\">input:</text>\n",
       "<polyline fill=\"none\" points=\"190.5,-521.5 245.5,-521.5 \" stroke=\"#000000\"/>\n",
       "<text fill=\"#000000\" font-family=\"Times,serif\" font-size=\"14.00\" text-anchor=\"middle\" x=\"218\" y=\"-506.3\">output:</text>\n",
       "<polyline fill=\"none\" points=\"245.5,-498.5 245.5,-544.5 \" stroke=\"#000000\"/>\n",
       "<text fill=\"#000000\" font-family=\"Times,serif\" font-size=\"14.00\" text-anchor=\"middle\" x=\"287\" y=\"-529.3\">(None, 1, 8)</text>\n",
       "<polyline fill=\"none\" points=\"245.5,-521.5 328.5,-521.5 \" stroke=\"#000000\"/>\n",
       "<text fill=\"#000000\" font-family=\"Times,serif\" font-size=\"14.00\" text-anchor=\"middle\" x=\"287\" y=\"-506.3\">(None, 8)</text>\n",
       "</g>\n",
       "<!-- 140174057935088&#45;&gt;140174057935312 -->\n",
       "<g class=\"edge\" id=\"edge3\">\n",
       "<title>140174057935088-&gt;140174057935312</title>\n",
       "<path d=\"M171.4639,-581.3799C173.9622,-573.0854 176.8303,-563.5633 179.5335,-554.5889\" fill=\"none\" stroke=\"#000000\"/>\n",
       "<polygon fill=\"#000000\" points=\"182.9539,-555.3685 182.4867,-544.784 176.2513,-553.3496 182.9539,-555.3685\" stroke=\"#000000\"/>\n",
       "</g>\n",
       "<!-- 140174057936040 -->\n",
       "<g class=\"node\" id=\"node6\">\n",
       "<title>140174057936040</title>\n",
       "<polygon fill=\"none\" points=\"358.5,-498.5 358.5,-544.5 626.5,-544.5 626.5,-498.5 358.5,-498.5\" stroke=\"#000000\"/>\n",
       "<text fill=\"#000000\" font-family=\"Times,serif\" font-size=\"14.00\" text-anchor=\"middle\" x=\"423.5\" y=\"-517.8\">FlattenUsers: Flatten</text>\n",
       "<polyline fill=\"none\" points=\"488.5,-498.5 488.5,-544.5 \" stroke=\"#000000\"/>\n",
       "<text fill=\"#000000\" font-family=\"Times,serif\" font-size=\"14.00\" text-anchor=\"middle\" x=\"516\" y=\"-529.3\">input:</text>\n",
       "<polyline fill=\"none\" points=\"488.5,-521.5 543.5,-521.5 \" stroke=\"#000000\"/>\n",
       "<text fill=\"#000000\" font-family=\"Times,serif\" font-size=\"14.00\" text-anchor=\"middle\" x=\"516\" y=\"-506.3\">output:</text>\n",
       "<polyline fill=\"none\" points=\"543.5,-498.5 543.5,-544.5 \" stroke=\"#000000\"/>\n",
       "<text fill=\"#000000\" font-family=\"Times,serif\" font-size=\"14.00\" text-anchor=\"middle\" x=\"585\" y=\"-529.3\">(None, 1, 5)</text>\n",
       "<polyline fill=\"none\" points=\"543.5,-521.5 626.5,-521.5 \" stroke=\"#000000\"/>\n",
       "<text fill=\"#000000\" font-family=\"Times,serif\" font-size=\"14.00\" text-anchor=\"middle\" x=\"585\" y=\"-506.3\">(None, 5)</text>\n",
       "</g>\n",
       "<!-- 140174057935368&#45;&gt;140174057936040 -->\n",
       "<g class=\"edge\" id=\"edge4\">\n",
       "<title>140174057935368-&gt;140174057936040</title>\n",
       "<path d=\"M501.8788,-581.3799C500.5936,-573.1745 499.1203,-563.7679 497.728,-554.8786\" fill=\"none\" stroke=\"#000000\"/>\n",
       "<polygon fill=\"#000000\" points=\"501.1522,-554.1219 496.1469,-544.784 494.2365,-555.2052 501.1522,-554.1219\" stroke=\"#000000\"/>\n",
       "</g>\n",
       "<!-- 140174057935424 -->\n",
       "<g class=\"node\" id=\"node7\">\n",
       "<title>140174057935424</title>\n",
       "<polygon fill=\"none\" points=\"77,-415.5 77,-461.5 326,-461.5 326,-415.5 77,-415.5\" stroke=\"#000000\"/>\n",
       "<text fill=\"#000000\" font-family=\"Times,serif\" font-size=\"14.00\" text-anchor=\"middle\" x=\"139.5\" y=\"-434.8\">dropout_1: Dropout</text>\n",
       "<polyline fill=\"none\" points=\"202,-415.5 202,-461.5 \" stroke=\"#000000\"/>\n",
       "<text fill=\"#000000\" font-family=\"Times,serif\" font-size=\"14.00\" text-anchor=\"middle\" x=\"229.5\" y=\"-446.3\">input:</text>\n",
       "<polyline fill=\"none\" points=\"202,-438.5 257,-438.5 \" stroke=\"#000000\"/>\n",
       "<text fill=\"#000000\" font-family=\"Times,serif\" font-size=\"14.00\" text-anchor=\"middle\" x=\"229.5\" y=\"-423.3\">output:</text>\n",
       "<polyline fill=\"none\" points=\"257,-415.5 257,-461.5 \" stroke=\"#000000\"/>\n",
       "<text fill=\"#000000\" font-family=\"Times,serif\" font-size=\"14.00\" text-anchor=\"middle\" x=\"291.5\" y=\"-446.3\">(None, 8)</text>\n",
       "<polyline fill=\"none\" points=\"257,-438.5 326,-438.5 \" stroke=\"#000000\"/>\n",
       "<text fill=\"#000000\" font-family=\"Times,serif\" font-size=\"14.00\" text-anchor=\"middle\" x=\"291.5\" y=\"-423.3\">(None, 8)</text>\n",
       "</g>\n",
       "<!-- 140174057935312&#45;&gt;140174057935424 -->\n",
       "<g class=\"edge\" id=\"edge5\">\n",
       "<title>140174057935312-&gt;140174057935424</title>\n",
       "<path d=\"M192.8427,-498.3799C194.029,-490.1745 195.389,-480.7679 196.6742,-471.8786\" fill=\"none\" stroke=\"#000000\"/>\n",
       "<polygon fill=\"#000000\" points=\"200.1666,-472.1819 198.1336,-461.784 193.2387,-471.1803 200.1666,-472.1819\" stroke=\"#000000\"/>\n",
       "</g>\n",
       "<!-- 140174057935592 -->\n",
       "<g class=\"node\" id=\"node8\">\n",
       "<title>140174057935592</title>\n",
       "<polygon fill=\"none\" points=\"350,-415.5 350,-461.5 599,-461.5 599,-415.5 350,-415.5\" stroke=\"#000000\"/>\n",
       "<text fill=\"#000000\" font-family=\"Times,serif\" font-size=\"14.00\" text-anchor=\"middle\" x=\"412.5\" y=\"-434.8\">dropout_2: Dropout</text>\n",
       "<polyline fill=\"none\" points=\"475,-415.5 475,-461.5 \" stroke=\"#000000\"/>\n",
       "<text fill=\"#000000\" font-family=\"Times,serif\" font-size=\"14.00\" text-anchor=\"middle\" x=\"502.5\" y=\"-446.3\">input:</text>\n",
       "<polyline fill=\"none\" points=\"475,-438.5 530,-438.5 \" stroke=\"#000000\"/>\n",
       "<text fill=\"#000000\" font-family=\"Times,serif\" font-size=\"14.00\" text-anchor=\"middle\" x=\"502.5\" y=\"-423.3\">output:</text>\n",
       "<polyline fill=\"none\" points=\"530,-415.5 530,-461.5 \" stroke=\"#000000\"/>\n",
       "<text fill=\"#000000\" font-family=\"Times,serif\" font-size=\"14.00\" text-anchor=\"middle\" x=\"564.5\" y=\"-446.3\">(None, 5)</text>\n",
       "<polyline fill=\"none\" points=\"530,-438.5 599,-438.5 \" stroke=\"#000000\"/>\n",
       "<text fill=\"#000000\" font-family=\"Times,serif\" font-size=\"14.00\" text-anchor=\"middle\" x=\"564.5\" y=\"-423.3\">(None, 5)</text>\n",
       "</g>\n",
       "<!-- 140174057936040&#45;&gt;140174057935592 -->\n",
       "<g class=\"edge\" id=\"edge6\">\n",
       "<title>140174057936040-&gt;140174057935592</title>\n",
       "<path d=\"M487.486,-498.3799C485.6872,-490.0854 483.6222,-480.5633 481.6759,-471.5889\" fill=\"none\" stroke=\"#000000\"/>\n",
       "<polygon fill=\"#000000\" points=\"485.0895,-470.815 479.5495,-461.784 478.2485,-472.2987 485.0895,-470.815\" stroke=\"#000000\"/>\n",
       "</g>\n",
       "<!-- 140173974391216 -->\n",
       "<g class=\"node\" id=\"node9\">\n",
       "<title>140173974391216</title>\n",
       "<polygon fill=\"none\" points=\"173.5,-332.5 173.5,-378.5 495.5,-378.5 495.5,-332.5 173.5,-332.5\" stroke=\"#000000\"/>\n",
       "<text fill=\"#000000\" font-family=\"Times,serif\" font-size=\"14.00\" text-anchor=\"middle\" x=\"238\" y=\"-351.8\">Concat: Concatenate</text>\n",
       "<polyline fill=\"none\" points=\"302.5,-332.5 302.5,-378.5 \" stroke=\"#000000\"/>\n",
       "<text fill=\"#000000\" font-family=\"Times,serif\" font-size=\"14.00\" text-anchor=\"middle\" x=\"330\" y=\"-363.3\">input:</text>\n",
       "<polyline fill=\"none\" points=\"302.5,-355.5 357.5,-355.5 \" stroke=\"#000000\"/>\n",
       "<text fill=\"#000000\" font-family=\"Times,serif\" font-size=\"14.00\" text-anchor=\"middle\" x=\"330\" y=\"-340.3\">output:</text>\n",
       "<polyline fill=\"none\" points=\"357.5,-332.5 357.5,-378.5 \" stroke=\"#000000\"/>\n",
       "<text fill=\"#000000\" font-family=\"Times,serif\" font-size=\"14.00\" text-anchor=\"middle\" x=\"426.5\" y=\"-363.3\">[(None, 8), (None, 5)]</text>\n",
       "<polyline fill=\"none\" points=\"357.5,-355.5 495.5,-355.5 \" stroke=\"#000000\"/>\n",
       "<text fill=\"#000000\" font-family=\"Times,serif\" font-size=\"14.00\" text-anchor=\"middle\" x=\"426.5\" y=\"-340.3\">(None, 13)</text>\n",
       "</g>\n",
       "<!-- 140174057935424&#45;&gt;140173974391216 -->\n",
       "<g class=\"edge\" id=\"edge7\">\n",
       "<title>140174057935424-&gt;140173974391216</title>\n",
       "<path d=\"M238.5479,-415.3799C253.9829,-405.7475 272.0706,-394.4597 288.3559,-384.2967\" fill=\"none\" stroke=\"#000000\"/>\n",
       "<polygon fill=\"#000000\" points=\"290.5589,-387.0476 297.1895,-378.784 286.8529,-381.1091 290.5589,-387.0476\" stroke=\"#000000\"/>\n",
       "</g>\n",
       "<!-- 140174057935592&#45;&gt;140173974391216 -->\n",
       "<g class=\"edge\" id=\"edge8\">\n",
       "<title>140174057935592-&gt;140173974391216</title>\n",
       "<path d=\"M435.5022,-415.3799C419.1044,-405.6583 399.8623,-394.2505 382.5971,-384.0147\" fill=\"none\" stroke=\"#000000\"/>\n",
       "<polygon fill=\"#000000\" points=\"384.1611,-380.8731 373.7742,-378.784 380.5912,-386.8944 384.1611,-380.8731\" stroke=\"#000000\"/>\n",
       "</g>\n",
       "<!-- 140173973547944 -->\n",
       "<g class=\"node\" id=\"node10\">\n",
       "<title>140173973547944</title>\n",
       "<polygon fill=\"none\" points=\"188,-249.5 188,-295.5 481,-295.5 481,-249.5 188,-249.5\" stroke=\"#000000\"/>\n",
       "<text fill=\"#000000\" font-family=\"Times,serif\" font-size=\"14.00\" text-anchor=\"middle\" x=\"265.5\" y=\"-268.8\">FullyConnected-1: Dense</text>\n",
       "<polyline fill=\"none\" points=\"343,-249.5 343,-295.5 \" stroke=\"#000000\"/>\n",
       "<text fill=\"#000000\" font-family=\"Times,serif\" font-size=\"14.00\" text-anchor=\"middle\" x=\"370.5\" y=\"-280.3\">input:</text>\n",
       "<polyline fill=\"none\" points=\"343,-272.5 398,-272.5 \" stroke=\"#000000\"/>\n",
       "<text fill=\"#000000\" font-family=\"Times,serif\" font-size=\"14.00\" text-anchor=\"middle\" x=\"370.5\" y=\"-257.3\">output:</text>\n",
       "<polyline fill=\"none\" points=\"398,-249.5 398,-295.5 \" stroke=\"#000000\"/>\n",
       "<text fill=\"#000000\" font-family=\"Times,serif\" font-size=\"14.00\" text-anchor=\"middle\" x=\"439.5\" y=\"-280.3\">(None, 13)</text>\n",
       "<polyline fill=\"none\" points=\"398,-272.5 481,-272.5 \" stroke=\"#000000\"/>\n",
       "<text fill=\"#000000\" font-family=\"Times,serif\" font-size=\"14.00\" text-anchor=\"middle\" x=\"439.5\" y=\"-257.3\">(None, 100)</text>\n",
       "</g>\n",
       "<!-- 140173974391216&#45;&gt;140173973547944 -->\n",
       "<g class=\"edge\" id=\"edge9\">\n",
       "<title>140173974391216-&gt;140173973547944</title>\n",
       "<path d=\"M334.5,-332.3799C334.5,-324.1745 334.5,-314.7679 334.5,-305.8786\" fill=\"none\" stroke=\"#000000\"/>\n",
       "<polygon fill=\"#000000\" points=\"338.0001,-305.784 334.5,-295.784 331.0001,-305.784 338.0001,-305.784\" stroke=\"#000000\"/>\n",
       "</g>\n",
       "<!-- 140173973009240 -->\n",
       "<g class=\"node\" id=\"node11\">\n",
       "<title>140173973009240</title>\n",
       "<polygon fill=\"none\" points=\"188,-166.5 188,-212.5 481,-212.5 481,-166.5 188,-166.5\" stroke=\"#000000\"/>\n",
       "<text fill=\"#000000\" font-family=\"Times,serif\" font-size=\"14.00\" text-anchor=\"middle\" x=\"265.5\" y=\"-185.8\">FullyConnected-2: Dense</text>\n",
       "<polyline fill=\"none\" points=\"343,-166.5 343,-212.5 \" stroke=\"#000000\"/>\n",
       "<text fill=\"#000000\" font-family=\"Times,serif\" font-size=\"14.00\" text-anchor=\"middle\" x=\"370.5\" y=\"-197.3\">input:</text>\n",
       "<polyline fill=\"none\" points=\"343,-189.5 398,-189.5 \" stroke=\"#000000\"/>\n",
       "<text fill=\"#000000\" font-family=\"Times,serif\" font-size=\"14.00\" text-anchor=\"middle\" x=\"370.5\" y=\"-174.3\">output:</text>\n",
       "<polyline fill=\"none\" points=\"398,-166.5 398,-212.5 \" stroke=\"#000000\"/>\n",
       "<text fill=\"#000000\" font-family=\"Times,serif\" font-size=\"14.00\" text-anchor=\"middle\" x=\"439.5\" y=\"-197.3\">(None, 100)</text>\n",
       "<polyline fill=\"none\" points=\"398,-189.5 481,-189.5 \" stroke=\"#000000\"/>\n",
       "<text fill=\"#000000\" font-family=\"Times,serif\" font-size=\"14.00\" text-anchor=\"middle\" x=\"439.5\" y=\"-174.3\">(None, 50)</text>\n",
       "</g>\n",
       "<!-- 140173973547944&#45;&gt;140173973009240 -->\n",
       "<g class=\"edge\" id=\"edge10\">\n",
       "<title>140173973547944-&gt;140173973009240</title>\n",
       "<path d=\"M334.5,-249.3799C334.5,-241.1745 334.5,-231.7679 334.5,-222.8786\" fill=\"none\" stroke=\"#000000\"/>\n",
       "<polygon fill=\"#000000\" points=\"338.0001,-222.784 334.5,-212.784 331.0001,-222.784 338.0001,-222.784\" stroke=\"#000000\"/>\n",
       "</g>\n",
       "<!-- 140173972776440 -->\n",
       "<g class=\"node\" id=\"node12\">\n",
       "<title>140173972776440</title>\n",
       "<polygon fill=\"none\" points=\"191.5,-83.5 191.5,-129.5 477.5,-129.5 477.5,-83.5 191.5,-83.5\" stroke=\"#000000\"/>\n",
       "<text fill=\"#000000\" font-family=\"Times,serif\" font-size=\"14.00\" text-anchor=\"middle\" x=\"269\" y=\"-102.8\">FullyConnected-3: Dense</text>\n",
       "<polyline fill=\"none\" points=\"346.5,-83.5 346.5,-129.5 \" stroke=\"#000000\"/>\n",
       "<text fill=\"#000000\" font-family=\"Times,serif\" font-size=\"14.00\" text-anchor=\"middle\" x=\"374\" y=\"-114.3\">input:</text>\n",
       "<polyline fill=\"none\" points=\"346.5,-106.5 401.5,-106.5 \" stroke=\"#000000\"/>\n",
       "<text fill=\"#000000\" font-family=\"Times,serif\" font-size=\"14.00\" text-anchor=\"middle\" x=\"374\" y=\"-91.3\">output:</text>\n",
       "<polyline fill=\"none\" points=\"401.5,-83.5 401.5,-129.5 \" stroke=\"#000000\"/>\n",
       "<text fill=\"#000000\" font-family=\"Times,serif\" font-size=\"14.00\" text-anchor=\"middle\" x=\"439.5\" y=\"-114.3\">(None, 50)</text>\n",
       "<polyline fill=\"none\" points=\"401.5,-106.5 477.5,-106.5 \" stroke=\"#000000\"/>\n",
       "<text fill=\"#000000\" font-family=\"Times,serif\" font-size=\"14.00\" text-anchor=\"middle\" x=\"439.5\" y=\"-91.3\">(None, 20)</text>\n",
       "</g>\n",
       "<!-- 140173973009240&#45;&gt;140173972776440 -->\n",
       "<g class=\"edge\" id=\"edge11\">\n",
       "<title>140173973009240-&gt;140173972776440</title>\n",
       "<path d=\"M334.5,-166.3799C334.5,-158.1745 334.5,-148.7679 334.5,-139.8786\" fill=\"none\" stroke=\"#000000\"/>\n",
       "<polygon fill=\"#000000\" points=\"338.0001,-139.784 334.5,-129.784 331.0001,-139.784 338.0001,-139.784\" stroke=\"#000000\"/>\n",
       "</g>\n",
       "<!-- 140173972776496 -->\n",
       "<g class=\"node\" id=\"node13\">\n",
       "<title>140173972776496</title>\n",
       "<polygon fill=\"none\" points=\"211.5,-.5 211.5,-46.5 457.5,-46.5 457.5,-.5 211.5,-.5\" stroke=\"#000000\"/>\n",
       "<text fill=\"#000000\" font-family=\"Times,serif\" font-size=\"14.00\" text-anchor=\"middle\" x=\"269\" y=\"-19.8\">Activation: Dense</text>\n",
       "<polyline fill=\"none\" points=\"326.5,-.5 326.5,-46.5 \" stroke=\"#000000\"/>\n",
       "<text fill=\"#000000\" font-family=\"Times,serif\" font-size=\"14.00\" text-anchor=\"middle\" x=\"354\" y=\"-31.3\">input:</text>\n",
       "<polyline fill=\"none\" points=\"326.5,-23.5 381.5,-23.5 \" stroke=\"#000000\"/>\n",
       "<text fill=\"#000000\" font-family=\"Times,serif\" font-size=\"14.00\" text-anchor=\"middle\" x=\"354\" y=\"-8.3\">output:</text>\n",
       "<polyline fill=\"none\" points=\"381.5,-.5 381.5,-46.5 \" stroke=\"#000000\"/>\n",
       "<text fill=\"#000000\" font-family=\"Times,serif\" font-size=\"14.00\" text-anchor=\"middle\" x=\"419.5\" y=\"-31.3\">(None, 20)</text>\n",
       "<polyline fill=\"none\" points=\"381.5,-23.5 457.5,-23.5 \" stroke=\"#000000\"/>\n",
       "<text fill=\"#000000\" font-family=\"Times,serif\" font-size=\"14.00\" text-anchor=\"middle\" x=\"419.5\" y=\"-8.3\">(None, 1)</text>\n",
       "</g>\n",
       "<!-- 140173972776440&#45;&gt;140173972776496 -->\n",
       "<g class=\"edge\" id=\"edge12\">\n",
       "<title>140173972776440-&gt;140173972776496</title>\n",
       "<path d=\"M334.5,-83.3799C334.5,-75.1745 334.5,-65.7679 334.5,-56.8786\" fill=\"none\" stroke=\"#000000\"/>\n",
       "<polygon fill=\"#000000\" points=\"338.0001,-56.784 334.5,-46.784 331.0001,-56.784 338.0001,-56.784\" stroke=\"#000000\"/>\n",
       "</g>\n",
       "</g>\n",
       "</svg>"
      ],
      "text/plain": [
       "<IPython.core.display.SVG object>"
      ]
     },
     "execution_count": 25,
     "metadata": {},
     "output_type": "execute_result"
    }
   ],
   "source": [
    "SVG(model_to_dot(model,  show_shapes=True, show_layer_names=True, rankdir='HB').create(prog='dot', format='svg'))"
   ]
  },
  {
   "cell_type": "code",
   "execution_count": 26,
   "metadata": {},
   "outputs": [
    {
     "name": "stdout",
     "output_type": "stream",
     "text": [
      "__________________________________________________________________________________________________\n",
      "Layer (type)                    Output Shape         Param #     Connected to                     \n",
      "==================================================================================================\n",
      "Item (InputLayer)               (None, 1)            0                                            \n",
      "__________________________________________________________________________________________________\n",
      "User (InputLayer)               (None, 1)            0                                            \n",
      "__________________________________________________________________________________________________\n",
      "Movie-Embedding (Embedding)     (None, 1, 8)         13456       Item[0][0]                       \n",
      "__________________________________________________________________________________________________\n",
      "User-Embedding (Embedding)      (None, 1, 5)         4715        User[0][0]                       \n",
      "__________________________________________________________________________________________________\n",
      "FlattenMovies (Flatten)         (None, 8)            0           Movie-Embedding[0][0]            \n",
      "__________________________________________________________________________________________________\n",
      "FlattenUsers (Flatten)          (None, 5)            0           User-Embedding[0][0]             \n",
      "__________________________________________________________________________________________________\n",
      "dropout_1 (Dropout)             (None, 8)            0           FlattenMovies[0][0]              \n",
      "__________________________________________________________________________________________________\n",
      "dropout_2 (Dropout)             (None, 5)            0           FlattenUsers[0][0]               \n",
      "__________________________________________________________________________________________________\n",
      "Concat (Concatenate)            (None, 13)           0           dropout_1[0][0]                  \n",
      "                                                                 dropout_2[0][0]                  \n",
      "__________________________________________________________________________________________________\n",
      "FullyConnected-1 (Dense)        (None, 100)          1400        Concat[0][0]                     \n",
      "__________________________________________________________________________________________________\n",
      "FullyConnected-2 (Dense)        (None, 50)           5050        FullyConnected-1[0][0]           \n",
      "__________________________________________________________________________________________________\n",
      "FullyConnected-3 (Dense)        (None, 20)           1020        FullyConnected-2[0][0]           \n",
      "__________________________________________________________________________________________________\n",
      "Activation (Dense)              (None, 1)            21          FullyConnected-3[0][0]           \n",
      "==================================================================================================\n",
      "Total params: 25,662\n",
      "Trainable params: 25,662\n",
      "Non-trainable params: 0\n",
      "__________________________________________________________________________________________________\n"
     ]
    }
   ],
   "source": [
    "model.summary()"
   ]
  },
  {
   "cell_type": "code",
   "execution_count": 27,
   "metadata": {},
   "outputs": [],
   "source": [
    "history = model.fit([train.user_id, train.item_id], train.rating, epochs=200, verbose=0)"
   ]
  },
  {
   "cell_type": "code",
   "execution_count": 28,
   "metadata": {},
   "outputs": [
    {
     "name": "stdout",
     "output_type": "stream",
     "text": [
      "0.6991\n",
      "0.7071426998615264\n"
     ]
    }
   ],
   "source": [
    "y_hat_2 = np.round(model.predict([test.user_id, test.item_id]),0)\n",
    "print(mean_absolute_error(y_true, y_hat_2))\n",
    "\n",
    "print(mean_absolute_error(y_true, model.predict([test.user_id, test.item_id])))"
   ]
  },
  {
   "cell_type": "code",
   "execution_count": null,
   "metadata": {},
   "outputs": [],
   "source": []
  },
  {
   "cell_type": "code",
   "execution_count": null,
   "metadata": {},
   "outputs": [],
   "source": []
  },
  {
   "cell_type": "code",
   "execution_count": null,
   "metadata": {},
   "outputs": [],
   "source": []
  },
  {
   "cell_type": "code",
   "execution_count": null,
   "metadata": {},
   "outputs": [],
   "source": []
  }
 ],
 "metadata": {
  "kernelspec": {
   "display_name": "Python 3",
   "language": "python",
   "name": "python3"
  },
  "language_info": {
   "codemirror_mode": {
    "name": "ipython",
    "version": 3
   },
   "file_extension": ".py",
   "mimetype": "text/x-python",
   "name": "python",
   "nbconvert_exporter": "python",
   "pygments_lexer": "ipython3",
   "version": "3.6.7"
  }
 },
 "nbformat": 4,
 "nbformat_minor": 2
}
